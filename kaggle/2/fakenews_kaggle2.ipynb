{
 "cells": [
  {
   "cell_type": "code",
   "execution_count": 2,
   "metadata": {},
   "outputs": [],
   "source": [
    "import pandas as pd\n",
    "import nltk\n",
    "import string\n",
    "import os\n",
    "from collections import Counter\n",
    "from nltk.tokenize import word_tokenize, sent_tokenize\n",
    "from nltk.corpus import stopwords\n",
    "from nltk.stem.porter import PorterStemmer\n",
    "import matplotlib.pyplot as plt\n",
    "import numpy as np\n",
    "%matplotlib inline\n",
    "from scipy import stats\n",
    "from sklearn.preprocessing import OneHotEncoder"
   ]
  },
  {
   "cell_type": "markdown",
   "metadata": {},
   "source": [
    "## Leitura dos dados"
   ]
  },
  {
   "cell_type": "code",
   "execution_count": 3,
   "metadata": {},
   "outputs": [
    {
     "data": {
      "text/plain": [
       "(20800, 5)"
      ]
     },
     "execution_count": 3,
     "metadata": {},
     "output_type": "execute_result"
    }
   ],
   "source": [
    "train_df = pd.read_csv('train.csv')\n",
    "train_df.shape"
   ]
  },
  {
   "cell_type": "code",
   "execution_count": 4,
   "metadata": {},
   "outputs": [
    {
     "data": {
      "text/plain": [
       "(5200, 4)"
      ]
     },
     "execution_count": 4,
     "metadata": {},
     "output_type": "execute_result"
    }
   ],
   "source": [
    "test_df = pd.read_csv('test.csv')\n",
    "test_df.shape"
   ]
  },
  {
   "cell_type": "code",
   "execution_count": 5,
   "metadata": {},
   "outputs": [
    {
     "data": {
      "text/html": [
       "<div>\n",
       "<style scoped>\n",
       "    .dataframe tbody tr th:only-of-type {\n",
       "        vertical-align: middle;\n",
       "    }\n",
       "\n",
       "    .dataframe tbody tr th {\n",
       "        vertical-align: top;\n",
       "    }\n",
       "\n",
       "    .dataframe thead th {\n",
       "        text-align: right;\n",
       "    }\n",
       "</style>\n",
       "<table border=\"1\" class=\"dataframe\">\n",
       "  <thead>\n",
       "    <tr style=\"text-align: right;\">\n",
       "      <th></th>\n",
       "      <th>id</th>\n",
       "      <th>title</th>\n",
       "      <th>author</th>\n",
       "      <th>text</th>\n",
       "      <th>label</th>\n",
       "    </tr>\n",
       "  </thead>\n",
       "  <tbody>\n",
       "    <tr>\n",
       "      <th>0</th>\n",
       "      <td>0</td>\n",
       "      <td>House Dem Aide: We Didn’t Even See Comey’s Let...</td>\n",
       "      <td>Darrell Lucus</td>\n",
       "      <td>House Dem Aide: We Didn’t Even See Comey’s Let...</td>\n",
       "      <td>1</td>\n",
       "    </tr>\n",
       "    <tr>\n",
       "      <th>1</th>\n",
       "      <td>1</td>\n",
       "      <td>FLYNN: Hillary Clinton, Big Woman on Campus - ...</td>\n",
       "      <td>Daniel J. Flynn</td>\n",
       "      <td>Ever get the feeling your life circles the rou...</td>\n",
       "      <td>0</td>\n",
       "    </tr>\n",
       "    <tr>\n",
       "      <th>2</th>\n",
       "      <td>2</td>\n",
       "      <td>Why the Truth Might Get You Fired</td>\n",
       "      <td>Consortiumnews.com</td>\n",
       "      <td>Why the Truth Might Get You Fired October 29, ...</td>\n",
       "      <td>1</td>\n",
       "    </tr>\n",
       "    <tr>\n",
       "      <th>3</th>\n",
       "      <td>3</td>\n",
       "      <td>15 Civilians Killed In Single US Airstrike Hav...</td>\n",
       "      <td>Jessica Purkiss</td>\n",
       "      <td>Videos 15 Civilians Killed In Single US Airstr...</td>\n",
       "      <td>1</td>\n",
       "    </tr>\n",
       "    <tr>\n",
       "      <th>4</th>\n",
       "      <td>4</td>\n",
       "      <td>Iranian woman jailed for fictional unpublished...</td>\n",
       "      <td>Howard Portnoy</td>\n",
       "      <td>Print \\nAn Iranian woman has been sentenced to...</td>\n",
       "      <td>1</td>\n",
       "    </tr>\n",
       "  </tbody>\n",
       "</table>\n",
       "</div>"
      ],
      "text/plain": [
       "   id                                              title              author  \\\n",
       "0   0  House Dem Aide: We Didn’t Even See Comey’s Let...       Darrell Lucus   \n",
       "1   1  FLYNN: Hillary Clinton, Big Woman on Campus - ...     Daniel J. Flynn   \n",
       "2   2                  Why the Truth Might Get You Fired  Consortiumnews.com   \n",
       "3   3  15 Civilians Killed In Single US Airstrike Hav...     Jessica Purkiss   \n",
       "4   4  Iranian woman jailed for fictional unpublished...      Howard Portnoy   \n",
       "\n",
       "                                                text  label  \n",
       "0  House Dem Aide: We Didn’t Even See Comey’s Let...      1  \n",
       "1  Ever get the feeling your life circles the rou...      0  \n",
       "2  Why the Truth Might Get You Fired October 29, ...      1  \n",
       "3  Videos 15 Civilians Killed In Single US Airstr...      1  \n",
       "4  Print \\nAn Iranian woman has been sentenced to...      1  "
      ]
     },
     "execution_count": 5,
     "metadata": {},
     "output_type": "execute_result"
    }
   ],
   "source": [
    "train_df.head(5)"
   ]
  },
  {
   "cell_type": "markdown",
   "metadata": {},
   "source": [
    "## Obtendo vetor de documentos"
   ]
  },
  {
   "cell_type": "code",
   "execution_count": 6,
   "metadata": {},
   "outputs": [],
   "source": [
    "porter_stemmer = PorterStemmer()\n",
    "\n",
    "def postag_sentence(sentence_tokens):\n",
    "    return nltk.pos_tag(sentence_tokens)\n",
    "\n",
    "def postag_filter(sentence_tokens):\n",
    "    pos_keep = ['NN', 'NNS', 'VB', 'VBD', 'VBG', 'VBN', 'VBP', \n",
    "                'VBZ', 'NNP', 'NNPS','RB', 'RBR', 'RBS', 'JJ', 'JJR', 'JJS']\n",
    "    sentence_tokens_filtered = [pt[0] for pt in postag_sentence(sentence_tokens) if pt[1] in pos_keep]\n",
    "    return sentence_tokens_filtered\n",
    "\n",
    "def stem_token(token):\n",
    "    return porter_stemmer.stem(token)\n",
    "\n",
    "def tokenize_doc(doc, use_pt_filter=False,\n",
    "                      use_lowercase_filter=False,\n",
    "                      use_stopwords_filter=False,\n",
    "                      use_stemming_filter=False,\n",
    "                      add_bigrams=False):\n",
    "    sentences = sent_tokenize(doc)\n",
    "    tokens = []\n",
    "    for s in sentences:\n",
    "        tk_sentence = word_tokenize(s)\n",
    "        if use_pt_filter:\n",
    "            tk_sentence = postag_filter(tk_sentence)\n",
    "        if use_lowercase_filter:\n",
    "            tk_sentence = [tk.lower() for tk in tk_sentence]\n",
    "        if use_stopwords_filter:\n",
    "            tk_sentence = [tk for tk in tk_sentence if tk not in stopwords.words('english')]\n",
    "        if use_stemming_filter:\n",
    "            tk_sentence = [stem_token(tk) for tk in tk_sentence ]\n",
    "        tokens.extend(tk_sentence)\n",
    "        if add_bigrams:\n",
    "            tokens.extend(nltk.bigrams(tk_sentence))\n",
    "        \n",
    "    return tokens\n",
    "        \n",
    "def remove_punctuation(tokens):\n",
    "    return [ t for t in tokens if t not in string.punctuation ]\n",
    "\n",
    "def get_vocabulary_tokenized_from_docs(tk_docs):\n",
    "    vocabulary = Counter()\n",
    "    for tk_d in tk_docs:\n",
    "        for tk in tk_d:\n",
    "            vocabulary[tk] += 1\n",
    "    return vocabulary"
   ]
  },
  {
   "cell_type": "code",
   "execution_count": 7,
   "metadata": {},
   "outputs": [],
   "source": [
    "docs = []\n",
    "authors = []\n",
    "authors_list = list(train_df['author'].unique())\n",
    "for index, row in train_df.iterrows():\n",
    "    docs.append(' '.join([str(row['title']), str(row['text'])]).replace(\"’\", \"'\"))\n",
    "    authors.append(authors_list.index(row['author']))"
   ]
  },
  {
   "cell_type": "code",
   "execution_count": 8,
   "metadata": {},
   "outputs": [],
   "source": [
    "authors_matrix = np.zeros((len(authors), len(authors_list)))\n",
    "for i in range(len(authors)):\n",
    "    author_onehotencoded = np.zeros(len(authors_list))\n",
    "    author_onehotencoded[authors[i]] = 1\n",
    "    authors_matrix[i,:] = author_onehotencoded"
   ]
  },
  {
   "cell_type": "markdown",
   "metadata": {},
   "source": [
    "## Vocabulario e reducao de dimensionalidade por vocabulario"
   ]
  },
  {
   "cell_type": "markdown",
   "metadata": {},
   "source": [
    "#### Sem Pos-Tagging, Sem Lowercase, Sem remoção Stopwords, Sem Stemming"
   ]
  },
  {
   "cell_type": "code",
   "execution_count": null,
   "metadata": {},
   "outputs": [],
   "source": [
    "tk_docs = [tokenize_doc(d, False, False, False, False) for d in docs]\n",
    "vocabulary = get_vocabulary_tokenized_from_docs(tk_docs)\n",
    "print('Tamanho do vocabulario inicial:', len(vocabulary.keys()))"
   ]
  },
  {
   "cell_type": "markdown",
   "metadata": {},
   "source": [
    "#### Com Pos-Tagging, Sem Lowercase, Sem remoção Stopwords, Sem Stemming"
   ]
  },
  {
   "cell_type": "code",
   "execution_count": null,
   "metadata": {},
   "outputs": [],
   "source": [
    "tk_docs = [tokenize_doc(d, True, False, False, False) for d in docs]\n",
    "vocabulary = get_vocabulary_tokenized_from_docs(tk_docs)\n",
    "print('Tamanho do vocabulario inicial:', len(vocabulary.keys()))"
   ]
  },
  {
   "cell_type": "markdown",
   "metadata": {},
   "source": [
    "#### Com Pos-Tagging, Com Lowercase, Sem remoção Stopwords, Sem Stemming"
   ]
  },
  {
   "cell_type": "code",
   "execution_count": null,
   "metadata": {},
   "outputs": [],
   "source": [
    "tk_docs = [tokenize_doc(d, True, True, False, False) for d in docs]\n",
    "vocabulary = get_vocabulary_tokenized_from_docs(tk_docs)\n",
    "print('Tamanho do vocabulario com lowercase:', len(vocabulary.keys()))"
   ]
  },
  {
   "cell_type": "markdown",
   "metadata": {},
   "source": [
    "#### Com Pos-Tagging, Com Lowercase, Com remoção Stopwords, Sem Stemming"
   ]
  },
  {
   "cell_type": "code",
   "execution_count": null,
   "metadata": {},
   "outputs": [],
   "source": [
    "tk_docs = [tokenize_doc(d, True, True, True, False) for d in docs]\n",
    "vocabulary = get_vocabulary_tokenized_from_docs(tk_docs)\n",
    "print('Tamanho do vocabulario com lowercase:', len(vocabulary.keys()))"
   ]
  },
  {
   "cell_type": "markdown",
   "metadata": {},
   "source": [
    "#### Com Pos-Tagging, Com Lowercase, Com remoção Stopwords, Com Stemming"
   ]
  },
  {
   "cell_type": "code",
   "execution_count": null,
   "metadata": {},
   "outputs": [],
   "source": [
    "tk_docs = [tokenize_doc(d, True, True, True, True) for d in docs]\n",
    "vocabulary = get_vocabulary_tokenized_from_docs(tk_docs)\n",
    "print('Tamanho do vocabulario com lowercase:', len(vocabulary.keys()))"
   ]
  },
  {
   "cell_type": "markdown",
   "metadata": {},
   "source": [
    "#### Com Pos-Tagging, Com Lowercase, Com remoção Stopwords, Com Stemming e Bigramas"
   ]
  },
  {
   "cell_type": "code",
   "execution_count": 9,
   "metadata": {},
   "outputs": [
    {
     "name": "stdout",
     "output_type": "stream",
     "text": [
      "Tamanho do vocabulario com lowercase: 3545517\n"
     ]
    }
   ],
   "source": [
    "tk_docs = [tokenize_doc(d, True, True, True, True, add_bigrams=True) for d in docs]\n",
    "vocabulary = get_vocabulary_tokenized_from_docs(tk_docs)\n",
    "print('Tamanho do vocabulario com lowercase:', len(vocabulary.keys()))"
   ]
  },
  {
   "cell_type": "markdown",
   "metadata": {},
   "source": [
    "### Filtrando por frequencia"
   ]
  },
  {
   "cell_type": "code",
   "execution_count": 11,
   "metadata": {},
   "outputs": [],
   "source": [
    "labels, values = zip(*vocabulary.items())\n",
    "indexes = np.arange(len(labels))\n",
    "values_list = np.array(values)"
   ]
  },
  {
   "cell_type": "code",
   "execution_count": 12,
   "metadata": {},
   "outputs": [],
   "source": [
    "mu, std = stats.norm.fit(values_list)\n",
    "max_cut = np.ceil(stats.norm.ppf(0.9, mu, std))\n",
    "min_cut = 10"
   ]
  },
  {
   "cell_type": "code",
   "execution_count": 13,
   "metadata": {},
   "outputs": [
    {
     "name": "stdout",
     "output_type": "stream",
     "text": [
      "Vocab Size before cut: 3545517\n",
      "Vocab Size after cut: 124683\n"
     ]
    }
   ],
   "source": [
    "keys = list(vocabulary.keys())\n",
    "print('Vocab Size before cut:', len(keys))\n",
    "for k in keys:\n",
    "    if vocabulary[k] > max_cut:\n",
    "        vocabulary.pop(k, None)\n",
    "        continue\n",
    "    if vocabulary[k] < min_cut:\n",
    "        vocabulary.pop(k, None)\n",
    "        \n",
    "keys = list(vocabulary.keys())\n",
    "print('Vocab Size after cut:', len(keys))"
   ]
  },
  {
   "cell_type": "markdown",
   "metadata": {},
   "source": [
    "## Matriz de count do texto"
   ]
  },
  {
   "cell_type": "code",
   "execution_count": null,
   "metadata": {},
   "outputs": [],
   "source": [
    "text_matrix = np.zeros((len(docs), len(list(vocabulary.keys()))))\n",
    "vocab_size = len(keys)\n",
    "n_docs = len(tk_docs)\n",
    "for i in range(n_docs):\n",
    "    row_vec = np.zeros(vocab_size)\n",
    "    for tk in tk_docs[i]:\n",
    "        try:\n",
    "            token_index = keys.index(tk)\n",
    "            row_vec[token_index] += 1\n",
    "        except Exception as ex:\n",
    "            continue\n",
    "    \n",
    "    print('Processed row:', (i+1), '/', n_docs)\n",
    "    text_matrix[i, :] = row_vec"
   ]
  },
  {
   "cell_type": "code",
   "execution_count": null,
   "metadata": {},
   "outputs": [],
   "source": []
  },
  {
   "cell_type": "code",
   "execution_count": 55,
   "metadata": {},
   "outputs": [],
   "source": [
    "np.save('kaggle_countmatrix', text_matrix)"
   ]
  },
  {
   "cell_type": "markdown",
   "metadata": {},
   "source": [
    "## Checkpoint - matriz de texto salva"
   ]
  },
  {
   "cell_type": "code",
   "execution_count": null,
   "metadata": {},
   "outputs": [],
   "source": [
    "text_matrix = np.load('kaggle_countmatrix.npy')"
   ]
  },
  {
   "cell_type": "code",
   "execution_count": 10,
   "metadata": {},
   "outputs": [
    {
     "ename": "NameError",
     "evalue": "name 'text_matrix' is not defined",
     "output_type": "error",
     "traceback": [
      "\u001b[0;31m---------------------------------------------------------------------------\u001b[0m",
      "\u001b[0;31mNameError\u001b[0m                                 Traceback (most recent call last)",
      "\u001b[0;32m<ipython-input-10-eef6ff7d73fa>\u001b[0m in \u001b[0;36m<module>\u001b[0;34m()\u001b[0m\n\u001b[0;32m----> 1\u001b[0;31m \u001b[0mtext_matrix\u001b[0m\u001b[0;34m.\u001b[0m\u001b[0mshape\u001b[0m\u001b[0;34m\u001b[0m\u001b[0m\n\u001b[0m",
      "\u001b[0;31mNameError\u001b[0m: name 'text_matrix' is not defined"
     ]
    }
   ],
   "source": [
    "text_matrix.shape"
   ]
  },
  {
   "cell_type": "markdown",
   "metadata": {},
   "source": [
    "### Juntando matriz de texto com de autores"
   ]
  },
  {
   "cell_type": "code",
   "execution_count": null,
   "metadata": {},
   "outputs": [],
   "source": [
    "authors_matrix.shape"
   ]
  },
  {
   "cell_type": "code",
   "execution_count": null,
   "metadata": {},
   "outputs": [],
   "source": [
    "reduc_dim = 200\n",
    "from sklearn.decomposition import PCA\n",
    "\n"
   ]
  }
 ],
 "metadata": {
  "kernelspec": {
   "display_name": "Python [conda env:fakenews]",
   "language": "python",
   "name": "conda-env-fakenews-py"
  },
  "language_info": {
   "codemirror_mode": {
    "name": "ipython",
    "version": 3
   },
   "file_extension": ".py",
   "mimetype": "text/x-python",
   "name": "python",
   "nbconvert_exporter": "python",
   "pygments_lexer": "ipython3",
   "version": "3.6.5"
  }
 },
 "nbformat": 4,
 "nbformat_minor": 2
}
