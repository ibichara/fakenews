{
 "cells": [
  {
   "cell_type": "code",
   "execution_count": 81,
   "metadata": {},
   "outputs": [],
   "source": [
    "import pandas as pd\n",
    "import numpy as np\n",
    "import os, json, requests, nltk\n",
    "from bs4 import BeautifulSoup\n",
    "from collections import Counter\n",
    "from nltk.corpus import stopwords"
   ]
  },
  {
   "cell_type": "markdown",
   "metadata": {},
   "source": [
    "## Datasets"
   ]
  },
  {
   "cell_type": "code",
   "execution_count": 82,
   "metadata": {
    "collapsed": true
   },
   "outputs": [],
   "source": [
    "data = {'BuzzFeed': 'datasets/Data/BuzzFeed', 'PolitiFact': 'datasets/Data/PolitiFact'}"
   ]
  },
  {
   "cell_type": "markdown",
   "metadata": {},
   "source": [
    "## Escolhendo o dataset"
   ]
  },
  {
   "cell_type": "code",
   "execution_count": 104,
   "metadata": {},
   "outputs": [
    {
     "name": "stdout",
     "output_type": "stream",
     "text": [
      "Tamanho NewsIds:  (182, 2)\n"
     ]
    },
    {
     "data": {
      "text/html": [
       "<div>\n",
       "<style>\n",
       "    .dataframe thead tr:only-child th {\n",
       "        text-align: right;\n",
       "    }\n",
       "\n",
       "    .dataframe thead th {\n",
       "        text-align: left;\n",
       "    }\n",
       "\n",
       "    .dataframe tbody tr th {\n",
       "        vertical-align: top;\n",
       "    }\n",
       "</style>\n",
       "<table border=\"1\" class=\"dataframe\">\n",
       "  <thead>\n",
       "    <tr style=\"text-align: right;\">\n",
       "      <th></th>\n",
       "      <th>NewsName</th>\n",
       "      <th>NewsIndex</th>\n",
       "    </tr>\n",
       "  </thead>\n",
       "  <tbody>\n",
       "    <tr>\n",
       "      <th>1</th>\n",
       "      <td>BuzzFeed_Real_1</td>\n",
       "      <td>1</td>\n",
       "    </tr>\n",
       "    <tr>\n",
       "      <th>2</th>\n",
       "      <td>BuzzFeed_Real_2</td>\n",
       "      <td>2</td>\n",
       "    </tr>\n",
       "    <tr>\n",
       "      <th>3</th>\n",
       "      <td>BuzzFeed_Real_3</td>\n",
       "      <td>3</td>\n",
       "    </tr>\n",
       "    <tr>\n",
       "      <th>4</th>\n",
       "      <td>BuzzFeed_Real_4</td>\n",
       "      <td>4</td>\n",
       "    </tr>\n",
       "    <tr>\n",
       "      <th>5</th>\n",
       "      <td>BuzzFeed_Real_5</td>\n",
       "      <td>5</td>\n",
       "    </tr>\n",
       "  </tbody>\n",
       "</table>\n",
       "</div>"
      ],
      "text/plain": [
       "          NewsName  NewsIndex\n",
       "1  BuzzFeed_Real_1          1\n",
       "2  BuzzFeed_Real_2          2\n",
       "3  BuzzFeed_Real_3          3\n",
       "4  BuzzFeed_Real_4          4\n",
       "5  BuzzFeed_Real_5          5"
      ]
     },
     "execution_count": 104,
     "metadata": {},
     "output_type": "execute_result"
    }
   ],
   "source": [
    "def get_newsids_dataframe(currentProvider):\n",
    "    file_news_ids = os.path.join(os.getcwd(), data[currentProvider], 'News.txt')\n",
    "    news_ids = pd.read_csv(file_news_ids, sep='\\t', header=None, names=['NewsName'])\n",
    "    news_ids.index += 1\n",
    "    news_ids['NewsIndex'] = news_ids.index\n",
    "    return news_ids\n",
    "\n",
    "news_ids = get_newsids_dataframe('BuzzFeed')\n",
    "print('Tamanho NewsIds: ', news_ids.shape)\n",
    "news_ids.head()"
   ]
  },
  {
   "cell_type": "code",
   "execution_count": 84,
   "metadata": {},
   "outputs": [
    {
     "name": "stdout",
     "output_type": "stream",
     "text": [
      "Tamanho UserIds:  (15257, 2)\n"
     ]
    },
    {
     "data": {
      "text/html": [
       "<div>\n",
       "<style>\n",
       "    .dataframe thead tr:only-child th {\n",
       "        text-align: right;\n",
       "    }\n",
       "\n",
       "    .dataframe thead th {\n",
       "        text-align: left;\n",
       "    }\n",
       "\n",
       "    .dataframe tbody tr th {\n",
       "        vertical-align: top;\n",
       "    }\n",
       "</style>\n",
       "<table border=\"1\" class=\"dataframe\">\n",
       "  <thead>\n",
       "    <tr style=\"text-align: right;\">\n",
       "      <th></th>\n",
       "      <th>UserName</th>\n",
       "      <th>UserIndex</th>\n",
       "    </tr>\n",
       "  </thead>\n",
       "  <tbody>\n",
       "    <tr>\n",
       "      <th>1</th>\n",
       "      <td>98d2b98ce305174e2f6c10b8f8a1a9d5</td>\n",
       "      <td>1</td>\n",
       "    </tr>\n",
       "    <tr>\n",
       "      <th>2</th>\n",
       "      <td>a273d0fd07c18a884ce2aa425813eb06</td>\n",
       "      <td>2</td>\n",
       "    </tr>\n",
       "    <tr>\n",
       "      <th>3</th>\n",
       "      <td>ac091e92df9e854a07563ffb397925d4</td>\n",
       "      <td>3</td>\n",
       "    </tr>\n",
       "    <tr>\n",
       "      <th>4</th>\n",
       "      <td>d2ded2de054f2ceb43dff7f80fc46774</td>\n",
       "      <td>4</td>\n",
       "    </tr>\n",
       "    <tr>\n",
       "      <th>5</th>\n",
       "      <td>3f2b23abf0e842f6bc97eed85596ff50</td>\n",
       "      <td>5</td>\n",
       "    </tr>\n",
       "  </tbody>\n",
       "</table>\n",
       "</div>"
      ],
      "text/plain": [
       "                           UserName  UserIndex\n",
       "1  98d2b98ce305174e2f6c10b8f8a1a9d5          1\n",
       "2  a273d0fd07c18a884ce2aa425813eb06          2\n",
       "3  ac091e92df9e854a07563ffb397925d4          3\n",
       "4  d2ded2de054f2ceb43dff7f80fc46774          4\n",
       "5  3f2b23abf0e842f6bc97eed85596ff50          5"
      ]
     },
     "execution_count": 84,
     "metadata": {},
     "output_type": "execute_result"
    }
   ],
   "source": [
    "def get_userids_dataframe(currentProvider):\n",
    "    file_user_ids = os.path.join(os.getcwd(), data[currentProvider], 'User.txt')\n",
    "    user_ids = pd.read_csv(file_user_ids, sep='\\t', header=None, names=['UserName'])\n",
    "    user_ids.index += 1\n",
    "    user_ids['UserIndex'] = user_ids.index\n",
    "    return user_ids\n",
    "\n",
    "user_ids = get_userids_dataframe('BuzzFeed')\n",
    "print('Tamanho UserIds: ', user_ids.shape)\n",
    "user_ids.head()"
   ]
  },
  {
   "cell_type": "code",
   "execution_count": 85,
   "metadata": {},
   "outputs": [
    {
     "name": "stdout",
     "output_type": "stream",
     "text": [
      "Tamanho NewsUser:  (22779, 3)\n"
     ]
    },
    {
     "data": {
      "text/html": [
       "<div>\n",
       "<style>\n",
       "    .dataframe thead tr:only-child th {\n",
       "        text-align: right;\n",
       "    }\n",
       "\n",
       "    .dataframe thead th {\n",
       "        text-align: left;\n",
       "    }\n",
       "\n",
       "    .dataframe tbody tr th {\n",
       "        vertical-align: top;\n",
       "    }\n",
       "</style>\n",
       "<table border=\"1\" class=\"dataframe\">\n",
       "  <thead>\n",
       "    <tr style=\"text-align: right;\">\n",
       "      <th></th>\n",
       "      <th>NewsIndex</th>\n",
       "      <th>UserIndex</th>\n",
       "      <th>Count</th>\n",
       "    </tr>\n",
       "  </thead>\n",
       "  <tbody>\n",
       "    <tr>\n",
       "      <th>0</th>\n",
       "      <td>45</td>\n",
       "      <td>1</td>\n",
       "      <td>1</td>\n",
       "    </tr>\n",
       "    <tr>\n",
       "      <th>1</th>\n",
       "      <td>127</td>\n",
       "      <td>2</td>\n",
       "      <td>1</td>\n",
       "    </tr>\n",
       "    <tr>\n",
       "      <th>2</th>\n",
       "      <td>115</td>\n",
       "      <td>3</td>\n",
       "      <td>1</td>\n",
       "    </tr>\n",
       "    <tr>\n",
       "      <th>3</th>\n",
       "      <td>180</td>\n",
       "      <td>3</td>\n",
       "      <td>1</td>\n",
       "    </tr>\n",
       "    <tr>\n",
       "      <th>4</th>\n",
       "      <td>140</td>\n",
       "      <td>4</td>\n",
       "      <td>1</td>\n",
       "    </tr>\n",
       "  </tbody>\n",
       "</table>\n",
       "</div>"
      ],
      "text/plain": [
       "   NewsIndex  UserIndex  Count\n",
       "0         45          1      1\n",
       "1        127          2      1\n",
       "2        115          3      1\n",
       "3        180          3      1\n",
       "4        140          4      1"
      ]
     },
     "execution_count": 85,
     "metadata": {},
     "output_type": "execute_result"
    }
   ],
   "source": [
    "def get_newsuser_dataframe(currentProvider):\n",
    "    news_user_file = os.path.join(os.getcwd(), data[currentProvider], currentProvider+'NewsUser.txt')\n",
    "    news_user = pd.read_csv(news_user_file, sep='\\t', header=None, names=['NewsIndex', 'UserIndex', 'Count'])\n",
    "    return news_user\n",
    "    \n",
    "news_user = get_newsuser_dataframe('BuzzFeed')\n",
    "print('Tamanho NewsUser: ', news_user.shape)\n",
    "news_user.head()                                                                                   "
   ]
  },
  {
   "cell_type": "code",
   "execution_count": 86,
   "metadata": {},
   "outputs": [
    {
     "name": "stdout",
     "output_type": "stream",
     "text": [
      "Tamanho UserUser:  (634750, 2)\n"
     ]
    },
    {
     "data": {
      "text/html": [
       "<div>\n",
       "<style>\n",
       "    .dataframe thead tr:only-child th {\n",
       "        text-align: right;\n",
       "    }\n",
       "\n",
       "    .dataframe thead th {\n",
       "        text-align: left;\n",
       "    }\n",
       "\n",
       "    .dataframe tbody tr th {\n",
       "        vertical-align: top;\n",
       "    }\n",
       "</style>\n",
       "<table border=\"1\" class=\"dataframe\">\n",
       "  <thead>\n",
       "    <tr style=\"text-align: right;\">\n",
       "      <th></th>\n",
       "      <th>UserIndex</th>\n",
       "      <th>Follows</th>\n",
       "    </tr>\n",
       "  </thead>\n",
       "  <tbody>\n",
       "    <tr>\n",
       "      <th>0</th>\n",
       "      <td>48</td>\n",
       "      <td>1</td>\n",
       "    </tr>\n",
       "    <tr>\n",
       "      <th>1</th>\n",
       "      <td>899</td>\n",
       "      <td>1</td>\n",
       "    </tr>\n",
       "    <tr>\n",
       "      <th>2</th>\n",
       "      <td>6781</td>\n",
       "      <td>1</td>\n",
       "    </tr>\n",
       "    <tr>\n",
       "      <th>3</th>\n",
       "      <td>10097</td>\n",
       "      <td>1</td>\n",
       "    </tr>\n",
       "    <tr>\n",
       "      <th>4</th>\n",
       "      <td>100</td>\n",
       "      <td>2</td>\n",
       "    </tr>\n",
       "  </tbody>\n",
       "</table>\n",
       "</div>"
      ],
      "text/plain": [
       "   UserIndex  Follows\n",
       "0         48        1\n",
       "1        899        1\n",
       "2       6781        1\n",
       "3      10097        1\n",
       "4        100        2"
      ]
     },
     "execution_count": 86,
     "metadata": {},
     "output_type": "execute_result"
    }
   ],
   "source": [
    "def get_useruser_dataframe(currentProvider):\n",
    "    user_user_file = os.path.join(os.getcwd(), data[currentProvider], currentProvider+'UserUser.txt')\n",
    "    user_user = pd.read_csv(user_user_file, sep='\\t', header=None, names=['UserIndex', 'Follows'])\n",
    "    return user_user\n",
    "\n",
    "user_user = get_useruser_dataframe('BuzzFeed')\n",
    "print('Tamanho UserUser: ', user_user.shape)\n",
    "user_user.head()"
   ]
  },
  {
   "cell_type": "markdown",
   "metadata": {},
   "source": [
    "## Resumo dos dados - tamanho das tabelas"
   ]
  },
  {
   "cell_type": "code",
   "execution_count": 87,
   "metadata": {
    "collapsed": true
   },
   "outputs": [],
   "source": [
    "summary = {\"news\": [get_newsids_dataframe('BuzzFeed').shape[0], get_newsids_dataframe('PolitiFact').shape[0]],\n",
    "           \"users\": [get_userids_dataframe('BuzzFeed').shape[0], get_userids_dataframe('PolitiFact').shape[0]],\n",
    "           \"newsuser\": [get_newsuser_dataframe('BuzzFeed').shape[0], get_newsuser_dataframe('PolitiFact').shape[0]],\n",
    "           \"useruser\": [get_useruser_dataframe('BuzzFeed').shape[0], get_useruser_dataframe('PolitiFact').shape[0]] }\n"
   ]
  },
  {
   "cell_type": "code",
   "execution_count": 88,
   "metadata": {},
   "outputs": [
    {
     "data": {
      "text/html": [
       "<div>\n",
       "<style>\n",
       "    .dataframe thead tr:only-child th {\n",
       "        text-align: right;\n",
       "    }\n",
       "\n",
       "    .dataframe thead th {\n",
       "        text-align: left;\n",
       "    }\n",
       "\n",
       "    .dataframe tbody tr th {\n",
       "        vertical-align: top;\n",
       "    }\n",
       "</style>\n",
       "<table border=\"1\" class=\"dataframe\">\n",
       "  <thead>\n",
       "    <tr style=\"text-align: right;\">\n",
       "      <th></th>\n",
       "      <th>news</th>\n",
       "      <th>newsuser</th>\n",
       "      <th>users</th>\n",
       "      <th>useruser</th>\n",
       "    </tr>\n",
       "  </thead>\n",
       "  <tbody>\n",
       "    <tr>\n",
       "      <th>BuzzFeed</th>\n",
       "      <td>182</td>\n",
       "      <td>22779</td>\n",
       "      <td>15257</td>\n",
       "      <td>634750</td>\n",
       "    </tr>\n",
       "    <tr>\n",
       "      <th>PolitiFact</th>\n",
       "      <td>240</td>\n",
       "      <td>32791</td>\n",
       "      <td>23865</td>\n",
       "      <td>574744</td>\n",
       "    </tr>\n",
       "  </tbody>\n",
       "</table>\n",
       "</div>"
      ],
      "text/plain": [
       "            news  newsuser  users  useruser\n",
       "BuzzFeed     182     22779  15257    634750\n",
       "PolitiFact   240     32791  23865    574744"
      ]
     },
     "execution_count": 88,
     "metadata": {},
     "output_type": "execute_result"
    }
   ],
   "source": [
    "pd.DataFrame(summary, index=['BuzzFeed', 'PolitiFact'])"
   ]
  },
  {
   "cell_type": "code",
   "execution_count": 89,
   "metadata": {
    "collapsed": true
   },
   "outputs": [],
   "source": [
    "def get_textfolder(newsname):\n",
    "    return 'FakeNewsContent' if 'Fake' in newsname else 'RealNewsContent'"
   ]
  },
  {
   "cell_type": "code",
   "execution_count": 90,
   "metadata": {
    "collapsed": true
   },
   "outputs": [],
   "source": [
    "def get_newspublisher(newsdict):\n",
    "    if 'meta_data' not in newsdict or 'og' not in newsdict['meta_data'] or 'site_name' not in newsdict['meta_data']['og']: \n",
    "        if 'source' in newsdict:\n",
    "            return newsdict['source']\n",
    "        return None\n",
    "    return newsdict['meta_data']['og']['site_name']"
   ]
  },
  {
   "cell_type": "code",
   "execution_count": 91,
   "metadata": {
    "collapsed": true
   },
   "outputs": [],
   "source": [
    "def get_newsdict(provider, newsname):\n",
    "    textfolder = get_textfolder(newsname)\n",
    "    textdatafile = os.path.join(os.getcwd(), 'datasets/Data',provider, textfolder, row['NewsName']+'-Webpage.json')\n",
    "    with open(textdatafile, 'r') as f:\n",
    "        newsdict = json.load(f)\n",
    "    return newsdict"
   ]
  },
  {
   "cell_type": "markdown",
   "metadata": {},
   "source": [
    "## Exemplo de Noticia"
   ]
  },
  {
   "cell_type": "code",
   "execution_count": 92,
   "metadata": {},
   "outputs": [
    {
     "data": {
      "text/html": [
       "<div>\n",
       "<style>\n",
       "    .dataframe thead tr:only-child th {\n",
       "        text-align: right;\n",
       "    }\n",
       "\n",
       "    .dataframe thead th {\n",
       "        text-align: left;\n",
       "    }\n",
       "\n",
       "    .dataframe tbody tr th {\n",
       "        vertical-align: top;\n",
       "    }\n",
       "</style>\n",
       "<table border=\"1\" class=\"dataframe\">\n",
       "  <thead>\n",
       "    <tr style=\"text-align: right;\">\n",
       "      <th></th>\n",
       "      <th>text</th>\n",
       "      <th>title</th>\n",
       "    </tr>\n",
       "  </thead>\n",
       "  <tbody>\n",
       "    <tr>\n",
       "      <th>0</th>\n",
       "      <td>On Saturday, September 17 at 8:30 pm EST, an explosion rocked West 23 Street in Manhattan, in the neighborhood commonly referred to as Chelsea, injuring 29 people, smashing windows and initiating street closures. There were no fatalities. Officials maintain that a homemade bomb, which had been placed in a dumpster, created the explosion. The explosive device was removed by the police at 2:25 am and was sent to a lab in Quantico, Virginia for analysis. A second device, which has been describe...</td>\n",
       "      <td>Another Terrorist Attack in NYC…Why Are we STILL Being Politically Correct – Eagle Rising</td>\n",
       "    </tr>\n",
       "  </tbody>\n",
       "</table>\n",
       "</div>"
      ],
      "text/plain": [
       "                                                                                                                                                                                                                                                                                                                                                                                                                                                                                                                  text  \\\n",
       "0  On Saturday, September 17 at 8:30 pm EST, an explosion rocked West 23 Street in Manhattan, in the neighborhood commonly referred to as Chelsea, injuring 29 people, smashing windows and initiating street closures. There were no fatalities. Officials maintain that a homemade bomb, which had been placed in a dumpster, created the explosion. The explosive device was removed by the police at 2:25 am and was sent to a lab in Quantico, Virginia for analysis. A second device, which has been describe...   \n",
       "\n",
       "                                                                                       title  \n",
       "0  Another Terrorist Attack in NYC…Why Are we STILL Being Politically Correct – Eagle Rising  "
      ]
     },
     "execution_count": 92,
     "metadata": {},
     "output_type": "execute_result"
    }
   ],
   "source": [
    "news_ids = get_newsids_dataframe('BuzzFeed')\n",
    "randomnews = news_ids.get_value(np.random.randint(0, news_ids.shape[0]), 'NewsName')\n",
    "\n",
    "textnews = get_newsdict('BuzzFeed', randomnews)\n",
    "\n",
    "pd.set_option('max_colwidth', 500)\n",
    "example_news = {\"title\": [textnews['title']],\n",
    "                \"text\": [textnews[\"text\"]]}\n",
    "pd.DataFrame(example_news)"
   ]
  },
  {
   "cell_type": "code",
   "execution_count": 93,
   "metadata": {},
   "outputs": [
    {
     "data": {
      "text/plain": [
       "{'authors': ['View All Posts', 'Leonora Cravotta'],\n",
       " 'canonical_link': 'http://eaglerising.com/36942/another-terrorist-attack-in-nyc-why-are-we-still-being-politically-correct/',\n",
       " 'images': ['http://constitution.com/wp-content/uploads/2017/08/confederatemonument_poll_pop.jpg',\n",
       "  'http://2lv0hm3wvpix464wwy2zh7d1.wpengine.netdna-cdn.com/wp-content/uploads/wordpress-popular-posts/46772-featured-300x130.jpg',\n",
       "  'http://2lv0hm3wvpix464wwy2zh7d1.wpengine.netdna-cdn.com/wp-content/uploads/2016/03/eagle-rising-logo3-1.png',\n",
       "  'http://2lv0hm3wvpix464wwy2zh7d1.wpengine.netdna-cdn.com/wp-content/uploads/wordpress-popular-posts/46729-featured-300x130.jpg',\n",
       "  'http://2lv0hm3wvpix464wwy2zh7d1.wpengine.netdna-cdn.com/wp-content/uploads/wordpress-popular-posts/46764-featured-300x130.jpg',\n",
       "  'http://2lv0hm3wvpix464wwy2zh7d1.wpengine.netdna-cdn.com/wp-content/uploads/wordpress-popular-posts/46731-featured-300x130.jpg',\n",
       "  'http://pixel.quantserve.com/pixel/p-52ePUfP6_NxQ_.gif',\n",
       "  'http://0.gravatar.com/avatar/9b4601287436c60e1c7c5b65d725151f?s=112&d=mm&r=g',\n",
       "  'http://b.scorecardresearch.com/p?c1=2&c2=22315475&cv=2.0&cj=1',\n",
       "  'http://2lv0hm3wvpix464wwy2zh7d1.wpengine.netdna-cdn.com/wp-content/uploads/wordpress-popular-posts/46784-featured-300x130.png',\n",
       "  'http://2lv0hm3wvpix464wwy2zh7d1.wpengine.netdna-cdn.com/wp-content/uploads/2016/09/terrorism-2-800x300.jpg',\n",
       "  'http://2lv0hm3wvpix464wwy2zh7d1.wpengine.netdna-cdn.com/wp-content/uploads/2016/09/coup-375x195.jpg',\n",
       "  'http://2lv0hm3wvpix464wwy2zh7d1.wpengine.netdna-cdn.com/wp-content/uploads/2017/04/crtv_300x600_1.jpg',\n",
       "  'http://2lv0hm3wvpix464wwy2zh7d1.wpengine.netdna-cdn.com/wp-content/uploads/wordpress-popular-posts/46774-featured-300x130.jpg',\n",
       "  'http://2lv0hm3wvpix464wwy2zh7d1.wpengine.netdna-cdn.com/wp-content/uploads/2016/09/superstar-375x195.jpg',\n",
       "  'http://2lv0hm3wvpix464wwy2zh7d1.wpengine.netdna-cdn.com/wp-content/uploads/wordpress-popular-posts/46763-featured-300x130.jpg',\n",
       "  'http://2lv0hm3wvpix464wwy2zh7d1.wpengine.netdna-cdn.com/wp-content/uploads/wordpress-popular-posts/46612-featured-300x130.jpg',\n",
       "  'http://2lv0hm3wvpix464wwy2zh7d1.wpengine.netdna-cdn.com/wp-content/uploads/wordpress-popular-posts/46761-featured-300x130.jpg',\n",
       "  'http://2lv0hm3wvpix464wwy2zh7d1.wpengine.netdna-cdn.com/wp-content/uploads/wordpress-popular-posts/46642-featured-300x130.jpg',\n",
       "  'http://2lv0hm3wvpix464wwy2zh7d1.wpengine.netdna-cdn.com/wp-content/uploads/wordpress-popular-posts/46735-featured-300x130.jpg',\n",
       "  'http://2lv0hm3wvpix464wwy2zh7d1.wpengine.netdna-cdn.com/wp-content/uploads/wordpress-popular-posts/46750-featured-300x130.jpg',\n",
       "  'http://2lv0hm3wvpix464wwy2zh7d1.wpengine.netdna-cdn.com/wp-content/uploads/wordpress-popular-posts/46755-featured-300x130.jpg',\n",
       "  'http://2lv0hm3wvpix464wwy2zh7d1.wpengine.netdna-cdn.com/wp-content/uploads/wordpress-popular-posts/46752-featured-300x130.png',\n",
       "  'http://eaglerising.com/wp-content/uploads/2016/09/terrorism-2.jpg',\n",
       "  'http://2lv0hm3wvpix464wwy2zh7d1.wpengine.netdna-cdn.com/wp-content/uploads/wordpress-popular-posts/46743-featured-300x130.jpg',\n",
       "  'http://2lv0hm3wvpix464wwy2zh7d1.wpengine.netdna-cdn.com/wp-content/uploads/wordpress-popular-posts/46712-featured-300x130.jpg',\n",
       "  'http://0.gravatar.com/avatar/9b4601287436c60e1c7c5b65d725151f?s=100&d=mm&r=g',\n",
       "  'http://2lv0hm3wvpix464wwy2zh7d1.wpengine.netdna-cdn.com/wp-content/uploads/wordpress-popular-posts/46757-featured-300x130.png'],\n",
       " 'keywords': [],\n",
       " 'meta_data': {'article': {'modified_time': '2016-09-22T10:49:05+00:00',\n",
       "   'published_time': '2016-09-22T07:10:30+00:00',\n",
       "   'section': 'Political Correctness',\n",
       "   'tag': 'terrorism'},\n",
       "  'description': '“We believe at this point in this time this was an intentional act,\" de Blasio said. Isn’t “an intentional act” terrorism?',\n",
       "  'fb': {'app_id': 256195528075351, 'pages': 135665053303678},\n",
       "  'googlebot': 'noimageindex',\n",
       "  'og': {'description': '“We believe at this point in this time this was an intentional act,\" de Blasio said. Isn’t “an intentional act” terrorism?',\n",
       "   'image': 'http://eaglerising.com/wp-content/uploads/2016/09/terrorism-2.jpg',\n",
       "   'locale': 'en_US',\n",
       "   'site_name': 'Eagle Rising',\n",
       "   'title': 'Another Terrorist Attack in NYC...Why Are we STILL Being Politically Correct',\n",
       "   'type': 'article',\n",
       "   'updated_time': '2016-09-22T10:49:05+00:00',\n",
       "   'url': 'http://eaglerising.com/36942/another-terrorist-attack-in-nyc-why-are-we-still-being-politically-correct/'},\n",
       "  'robots': 'noimageindex',\n",
       "  'viewport': 'initial-scale=1,maximum-scale=1,user-scalable=no'},\n",
       " 'movies': [],\n",
       " 'publish_date': {'$date': 1474528230000},\n",
       " 'source': 'http://eaglerising.com',\n",
       " 'summary': '',\n",
       " 'text': 'On Saturday, September 17 at 8:30 pm EST, an explosion rocked West 23 Street in Manhattan, in the neighborhood commonly referred to as Chelsea, injuring 29 people, smashing windows and initiating street closures. There were no fatalities. Officials maintain that a homemade bomb, which had been placed in a dumpster, created the explosion. The explosive device was removed by the police at 2:25 am and was sent to a lab in Quantico, Virginia for analysis. A second device, which has been described as a “pressure cooker” device similar to the device used for the Boston Marathon bombing in 2013, was found on West 27th Street between the Avenues of the Americas and Seventh Avenue. By Sunday morning, all 29 people had been released from the hospital. The Chelsea incident came on the heels of an incident Saturday morning in Seaside Heights, New Jersey where a bomb exploded in a trash can along a route where thousands of runners were present to run a 5K Marine Corps charity race. There were no casualties. By Sunday afternoon, law enforcement had learned that the NY and NJ explosives were traced to the same person.\\n\\nGiven that we are now living in a world where acts of terrorism are increasingly more prevalent, when a bomb goes off, our first thought usually goes to the possibility of terrorism. After all, in the last year alone, we have had several significant incidents with a massive number of casualties and injuries in Paris, San Bernardino California, Orlando Florida and Nice, to name a few. And of course, last week we remembered the 15th anniversary of the September 11, 2001 attacks where close to 3,000 people were killed at the hands of terrorists. However, we also live in a world where political correctness is the order of the day and the fear of being labeled a racist supersedes our natural instincts towards self-preservation which, of course, includes identifying the evil-doers. Isn’t that how crimes are solved? Law enforcement tries to identify and locate the perpetrators of the crime or the “bad guys.” Unfortunately, our leadership – who ostensibly wants to protect us – finds their hands and their tongues tied. They are not allowed to be specific about their potential hypotheses for fear of offending anyone.\\n\\nNew York City Mayor Bill de Blasio – who famously ended “stop-and-frisk” profiling in his city – was extremely cautious when making his first remarks following the Chelsea neighborhood explosion. “There is no specific and credible threat to New York City from any terror organization,” de Blasio said late Saturday at the news conference. “We believe at this point in this time this was an intentional act. I want to assure all New Yorkers that the NYPD and … agencies are at full alert”, he said. Isn’t “an intentional act” terrorism? We may not know whether it is from an international terrorist group such as ISIS, or a homegrown terrorist organization or a deranged individual or group of individuals. It is still terrorism. It is not an accident. James O’Neill, the New York City Police Commissioner had already ruled out the possibility that the explosion was caused by a natural gas leak at the time the Mayor made his comments. New York’s Governor Andrew Cuomo was a little more direct than de Blasio saying that there was no evidence of international terrorism and that no specific groups had claimed responsibility. However, he did say that it is a question of how the word “terrorism” is defined. “A bomb exploding in New York is obviously an act of terrorism.” Cuomo hit the nail on the head, but why did need to clarify and caveat before making his “obvious” assessment?\\n\\nThe two candidates for president Hillary Clinton and Donald Trump also weighed in on the Chelsea explosion. Clinton was very generic in her response saying that “we need to do everything we can to support our first responders – also to pray for the victims” and that “we need to let this investigation unfold.” Trump was more direct. “I must tell you that just before I got off the plane a bomb went off in New York and nobody knows what’s going on,” he said. “But boy we are living in a time—we better get very tough folks. We better get very, very tough. It’s a terrible thing that’s going on in our world, in our country and we are going to get tough and smart and vigilant.”\\n\\nUnfortunately, an incident like the Chelsea explosion reminds us how vulnerable our country is particularly in venues defined as “soft targets.” Now more than ever, America needs strong leadership which is laser-focused on protecting her citizens from terrorist attacks of all genres and is not afraid of being politically incorrect.\\n\\nThe views expressed in this opinion article are solely those of their author and are not necessarily either shared or endorsed by EagleRising.com',\n",
       " 'title': 'Another Terrorist Attack in NYC…Why Are we STILL Being Politically Correct – Eagle Rising',\n",
       " 'top_img': 'http://eaglerising.com/wp-content/uploads/2016/09/terrorism-2.jpg',\n",
       " 'url': 'http://eaglerising.com/36942/another-terrorist-attack-in-nyc-why-are-we-still-being-politically-correct/'}"
      ]
     },
     "execution_count": 93,
     "metadata": {},
     "output_type": "execute_result"
    }
   ],
   "source": [
    "textnews"
   ]
  },
  {
   "cell_type": "markdown",
   "metadata": {},
   "source": [
    "textnews['meta_data']['og']['site_name']"
   ]
  },
  {
   "cell_type": "code",
   "execution_count": 94,
   "metadata": {
    "collapsed": true
   },
   "outputs": [],
   "source": [
    "sourcebias_cache = {}\n",
    "def get_source_bias(source):\n",
    "    if source in sourcebias_cache:\n",
    "        return sourcebias_cache[source]\n",
    "    \n",
    "    search_url = 'https://mediabiasfactcheck.com/?s=' + source\n",
    "    try:\n",
    "        r = requests.get(search_url)\n",
    "        if r.status_code != 200:\n",
    "            print('GetSourceBias StatusCode:', r.status_code)\n",
    "            return None\n",
    "    except Exception as ex:\n",
    "        print('Erro no request de source bias')\n",
    "        print(ex)\n",
    "        raise(ex)\n",
    "    \n",
    "    soup = BeautifulSoup(r.content, 'html.parser')\n",
    "    articles = soup.find_all('article')\n",
    "    if len(articles)==0:\n",
    "        print('GetSource Bias: Nenhum article encontrado.')\n",
    "        sourcebias_cache[source] = 'UNDEFINED BIAS'\n",
    "        return sourcebias_cache[source]\n",
    "    \n",
    "    biases = {'LEFT BIAS': -1,\n",
    "              'LEAST BIASED': 0,\n",
    "              'RIGHT BIAS': 1\n",
    "             }\n",
    "    \n",
    "    result = articles[0].find('div', class_='mh-excerpt').text\n",
    "    #print(result)\n",
    "    \n",
    "    for key in biases:\n",
    "        if key in result:\n",
    "            sourcebias_cache[source] = biases[key]\n",
    "            return sourcebias_cache[source]\n",
    "    \n",
    "    sourcebias_cache[source] = 'UNDEFINED BIAS'\n",
    "    return sourcebias_cache[source]    "
   ]
  },
  {
   "cell_type": "markdown",
   "metadata": {},
   "source": [
    "get_source_bias('http://cnn.it')"
   ]
  },
  {
   "cell_type": "markdown",
   "metadata": {},
   "source": [
    "## Calculo de bias das sources (BuzzFeed)"
   ]
  },
  {
   "cell_type": "markdown",
   "metadata": {},
   "source": [
    "provider = 'BuzzFeed'\n",
    "buzznews = []\n",
    "for i, row in get_newsids_dataframe(provider).iterrows():\n",
    "    textfolder = get_textfolder(row['NewsName'])\n",
    "    textdatafile = os.path.join(os.getcwd(), 'datasets/Data',provider, textfolder, row['NewsName']+'-Webpage.json')\n",
    "    with open(textdatafile, 'r') as f:\n",
    "        newsdict = json.load(f)\n",
    "        \n",
    "    simpler_news = {\n",
    "                    \"name\": row['NewsName'],\n",
    "                    \"title\": newsdict['title'],\n",
    "                    \"text\": newsdict['text'],\n",
    "                    \"source\": newsdict['source'] if 'source' in newsdict else None,\n",
    "                    \"bias\": get_source_bias(newsdict['source']) if 'source' in newsdict else None\n",
    "                   }    \n",
    "    buzznews.append(simpler_news)\n",
    "pd.DataFrame(buzznews)['bias'].value_counts()"
   ]
  },
  {
   "cell_type": "markdown",
   "metadata": {},
   "source": [
    "## Vocabulario (Buzzfeed)"
   ]
  },
  {
   "cell_type": "code",
   "execution_count": 95,
   "metadata": {
    "collapsed": true
   },
   "outputs": [],
   "source": [
    "vocabulary = {}"
   ]
  },
  {
   "cell_type": "code",
   "execution_count": 96,
   "metadata": {},
   "outputs": [
    {
     "name": "stdout",
     "output_type": "stream",
     "text": [
      "BuzzFeed vocabulary size: 11148\n"
     ]
    }
   ],
   "source": [
    "def tokenize_text(text):\n",
    "    tokens = []\n",
    "    sentences = nltk.sent_tokenize(text)\n",
    "    for s in sentences:\n",
    "        tokens.extend(nltk.word_tokenize(s))\n",
    "    return tokens\n",
    "\n",
    "def filter_stopwords(tokens):\n",
    "    return [t for t in tokens if t not in stopwords.words('english')]\n",
    "\n",
    "def make_lowercase(tokens):\n",
    "    return [t.lower() for t in tokens]\n",
    "\n",
    "provider = 'BuzzFeed'\n",
    "\n",
    "news_ids = get_newsids_dataframe(provider)\n",
    "vocab_counter = Counter()\n",
    "for i, row in news_ids.iterrows():\n",
    "    #pegando noticia do arquivo\n",
    "    newsdict = get_newsdict(provider, row['NewsName'])\n",
    "        \n",
    "    #processamento basico\n",
    "    newstext = ' '.join([newsdict['title'], newsdict['text']])\n",
    "    news_tokens = make_lowercase(filter_stopwords(tokenize_text(newstext)))\n",
    "    for token in news_tokens:\n",
    "        vocab_counter[token] += 1\n",
    "vocabulary[provider] = list(vocab_counter.keys())\n",
    "print(provider, 'vocabulary size:', len(vocabulary[provider]) )"
   ]
  },
  {
   "cell_type": "markdown",
   "metadata": {},
   "source": [
    "## Matriz X -> news x terms e y -> labels (Buzzfeed) "
   ]
  },
  {
   "cell_type": "code",
   "execution_count": 97,
   "metadata": {},
   "outputs": [],
   "source": [
    "X = np.zeros((news_ids.shape[0], len(vocabulary[provider])))\n",
    "y = np.zeros(news_ids.shape[0])    "
   ]
  },
  {
   "cell_type": "code",
   "execution_count": 98,
   "metadata": {},
   "outputs": [],
   "source": [
    "news_ids = get_newsids_dataframe(provider)\n",
    "for i, (index, row) in enumerate(news_ids.iterrows()):\n",
    "    #pegando noticia do arquivo\n",
    "    textfolder = get_textfolder(row['NewsName'])\n",
    "    textdatafile = os.path.join(os.getcwd(), 'datasets/Data',provider, textfolder, row['NewsName']+'-Webpage.json')\n",
    "    with open(textdatafile, 'r') as f:\n",
    "        newsdict = json.load(f)\n",
    "        \n",
    "    #processamento basico\n",
    "    newstext = ' '.join([newsdict['title'], newsdict['text']])\n",
    "    news_tokens = make_lowercase(filter_stopwords(tokenize_text(newstext)))\n",
    "    \n",
    "    xrow = np.zeros(X.shape[1])\n",
    "    for token in news_tokens:\n",
    "        xrow[vocabulary[provider].index(token)] += 1\n",
    "    \n",
    "    X[i,:] = xrow \n",
    "    y[i] = 1 if 'Fake' in row['NewsName'] else -1"
   ]
  },
  {
   "cell_type": "markdown",
   "metadata": {},
   "source": [
    "## Matriz A -> user x user adjancy (Buzzfeed)"
   ]
  },
  {
   "cell_type": "code",
   "execution_count": 46,
   "metadata": {
    "collapsed": true
   },
   "outputs": [],
   "source": [
    "user_ids = get_userids_dataframe('BuzzFeed')\n",
    "user_user = get_useruser_dataframe('BuzzFeed')\n",
    "\n",
    "M = np.zeros((user_ids.shape[0], user_ids.shape[0]))\n",
    "\n",
    "for i, (index, row) in enumerate(user_user.iterrows()):\n",
    "    user_a_zero_indexed = row['UserIndex'] - 1\n",
    "    user_b_zero_indexed = row['Follows'] -1\n",
    "    M[user_a_zero_indexed, user_b_zero_indexed] = 1"
   ]
  },
  {
   "cell_type": "markdown",
   "metadata": {},
   "source": [
    "## Matriz B -> publisher x news (Buzzfeed)"
   ]
  },
  {
   "cell_type": "code",
   "execution_count": 101,
   "metadata": {},
   "outputs": [],
   "source": [
    "news_ids = get_newsids_dataframe(provider)\n",
    "publisher_list = set()\n",
    "for i, (index, row) in enumerate(news_ids.iterrows()):\n",
    "    newsdict = get_newsdict(provider, row['NewsName'])\n",
    "    newspublisher = get_newspublisher(newsdict)\n",
    "    if newspublisher is not None:\n",
    "        publisher_list.add(newspublisher)\n",
    "    \n",
    "publisher_list = list(publisher_list)\n",
    "\n",
    "B = np.zeros((len(publisher_list), news_ids.shape[0]))\n",
    "for i, (index, row) in enumerate(news_ids.iterrows()):\n",
    "    newsdict = get_newsdict(provider, row['NewsName'])\n",
    "    newspublisher = get_newspublisher(newsdict)\n",
    "    if newspublisher is not None:\n",
    "        B[ publisher_list.index(newspublisher), i ] = 1"
   ]
  }
 ],
 "metadata": {
  "kernelspec": {
   "display_name": "Python [conda env:fakenews]",
   "language": "python",
   "name": "conda-env-fakenews-py"
  },
  "language_info": {
   "codemirror_mode": {
    "name": "ipython",
    "version": 3
   },
   "file_extension": ".py",
   "mimetype": "text/x-python",
   "name": "python",
   "nbconvert_exporter": "python",
   "pygments_lexer": "ipython3",
   "version": "3.6.2"
  }
 },
 "nbformat": 4,
 "nbformat_minor": 2
}
