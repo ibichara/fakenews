{
 "cells": [
  {
   "cell_type": "code",
   "execution_count": 1,
   "metadata": {
    "collapsed": true
   },
   "outputs": [],
   "source": [
    "import pandas as pd\n",
    "import numpy as np\n",
    "import os, json, requests, nltk\n",
    "from bs4 import BeautifulSoup\n",
    "from collections import Counter\n",
    "from nltk.corpus import stopwords"
   ]
  },
  {
   "cell_type": "markdown",
   "metadata": {},
   "source": [
    "## Datasets"
   ]
  },
  {
   "cell_type": "code",
   "execution_count": 2,
   "metadata": {
    "collapsed": true
   },
   "outputs": [],
   "source": [
    "data = {'BuzzFeed': 'datasets/Data/BuzzFeed', 'PolitiFact': 'datasets/Data/PolitiFact'}"
   ]
  },
  {
   "cell_type": "markdown",
   "metadata": {},
   "source": [
    "## Escolhendo o dataset"
   ]
  },
  {
   "cell_type": "code",
   "execution_count": 3,
   "metadata": {},
   "outputs": [
    {
     "name": "stdout",
     "output_type": "stream",
     "text": [
      "Tamanho NewsIds:  (182, 2)\n"
     ]
    },
    {
     "data": {
      "text/html": [
       "<div>\n",
       "<style>\n",
       "    .dataframe thead tr:only-child th {\n",
       "        text-align: right;\n",
       "    }\n",
       "\n",
       "    .dataframe thead th {\n",
       "        text-align: left;\n",
       "    }\n",
       "\n",
       "    .dataframe tbody tr th {\n",
       "        vertical-align: top;\n",
       "    }\n",
       "</style>\n",
       "<table border=\"1\" class=\"dataframe\">\n",
       "  <thead>\n",
       "    <tr style=\"text-align: right;\">\n",
       "      <th></th>\n",
       "      <th>NewsName</th>\n",
       "      <th>NewsIndex</th>\n",
       "    </tr>\n",
       "  </thead>\n",
       "  <tbody>\n",
       "    <tr>\n",
       "      <th>1</th>\n",
       "      <td>BuzzFeed_Real_1</td>\n",
       "      <td>1</td>\n",
       "    </tr>\n",
       "    <tr>\n",
       "      <th>2</th>\n",
       "      <td>BuzzFeed_Real_2</td>\n",
       "      <td>2</td>\n",
       "    </tr>\n",
       "    <tr>\n",
       "      <th>3</th>\n",
       "      <td>BuzzFeed_Real_3</td>\n",
       "      <td>3</td>\n",
       "    </tr>\n",
       "    <tr>\n",
       "      <th>4</th>\n",
       "      <td>BuzzFeed_Real_4</td>\n",
       "      <td>4</td>\n",
       "    </tr>\n",
       "    <tr>\n",
       "      <th>5</th>\n",
       "      <td>BuzzFeed_Real_5</td>\n",
       "      <td>5</td>\n",
       "    </tr>\n",
       "  </tbody>\n",
       "</table>\n",
       "</div>"
      ],
      "text/plain": [
       "          NewsName  NewsIndex\n",
       "1  BuzzFeed_Real_1          1\n",
       "2  BuzzFeed_Real_2          2\n",
       "3  BuzzFeed_Real_3          3\n",
       "4  BuzzFeed_Real_4          4\n",
       "5  BuzzFeed_Real_5          5"
      ]
     },
     "execution_count": 3,
     "metadata": {},
     "output_type": "execute_result"
    }
   ],
   "source": [
    "def get_newsids_dataframe(currentProvider):\n",
    "    file_news_ids = os.path.join(os.getcwd(), data[currentProvider], 'News.txt')\n",
    "    news_ids = pd.read_csv(file_news_ids, sep='\\t', header=None, names=['NewsName'])\n",
    "    news_ids.index += 1\n",
    "    news_ids['NewsIndex'] = news_ids.index\n",
    "    return news_ids\n",
    "\n",
    "news_ids = get_newsids_dataframe('BuzzFeed')\n",
    "print('Tamanho NewsIds: ', news_ids.shape)\n",
    "news_ids.head()"
   ]
  },
  {
   "cell_type": "code",
   "execution_count": 4,
   "metadata": {},
   "outputs": [
    {
     "name": "stdout",
     "output_type": "stream",
     "text": [
      "Tamanho UserIds:  (15257, 2)\n"
     ]
    },
    {
     "data": {
      "text/html": [
       "<div>\n",
       "<style>\n",
       "    .dataframe thead tr:only-child th {\n",
       "        text-align: right;\n",
       "    }\n",
       "\n",
       "    .dataframe thead th {\n",
       "        text-align: left;\n",
       "    }\n",
       "\n",
       "    .dataframe tbody tr th {\n",
       "        vertical-align: top;\n",
       "    }\n",
       "</style>\n",
       "<table border=\"1\" class=\"dataframe\">\n",
       "  <thead>\n",
       "    <tr style=\"text-align: right;\">\n",
       "      <th></th>\n",
       "      <th>UserName</th>\n",
       "      <th>UserIndex</th>\n",
       "    </tr>\n",
       "  </thead>\n",
       "  <tbody>\n",
       "    <tr>\n",
       "      <th>1</th>\n",
       "      <td>98d2b98ce305174e2f6c10b8f8a1a9d5</td>\n",
       "      <td>1</td>\n",
       "    </tr>\n",
       "    <tr>\n",
       "      <th>2</th>\n",
       "      <td>a273d0fd07c18a884ce2aa425813eb06</td>\n",
       "      <td>2</td>\n",
       "    </tr>\n",
       "    <tr>\n",
       "      <th>3</th>\n",
       "      <td>ac091e92df9e854a07563ffb397925d4</td>\n",
       "      <td>3</td>\n",
       "    </tr>\n",
       "    <tr>\n",
       "      <th>4</th>\n",
       "      <td>d2ded2de054f2ceb43dff7f80fc46774</td>\n",
       "      <td>4</td>\n",
       "    </tr>\n",
       "    <tr>\n",
       "      <th>5</th>\n",
       "      <td>3f2b23abf0e842f6bc97eed85596ff50</td>\n",
       "      <td>5</td>\n",
       "    </tr>\n",
       "  </tbody>\n",
       "</table>\n",
       "</div>"
      ],
      "text/plain": [
       "                           UserName  UserIndex\n",
       "1  98d2b98ce305174e2f6c10b8f8a1a9d5          1\n",
       "2  a273d0fd07c18a884ce2aa425813eb06          2\n",
       "3  ac091e92df9e854a07563ffb397925d4          3\n",
       "4  d2ded2de054f2ceb43dff7f80fc46774          4\n",
       "5  3f2b23abf0e842f6bc97eed85596ff50          5"
      ]
     },
     "execution_count": 4,
     "metadata": {},
     "output_type": "execute_result"
    }
   ],
   "source": [
    "def get_userids_dataframe(currentProvider):\n",
    "    file_user_ids = os.path.join(os.getcwd(), data[currentProvider], 'User.txt')\n",
    "    user_ids = pd.read_csv(file_user_ids, sep='\\t', header=None, names=['UserName'])\n",
    "    user_ids.index += 1\n",
    "    user_ids['UserIndex'] = user_ids.index\n",
    "    return user_ids\n",
    "\n",
    "user_ids = get_userids_dataframe('BuzzFeed')\n",
    "print('Tamanho UserIds: ', user_ids.shape)\n",
    "user_ids.head()"
   ]
  },
  {
   "cell_type": "code",
   "execution_count": 5,
   "metadata": {},
   "outputs": [
    {
     "name": "stdout",
     "output_type": "stream",
     "text": [
      "Tamanho NewsUser:  (22779, 3)\n"
     ]
    },
    {
     "data": {
      "text/html": [
       "<div>\n",
       "<style>\n",
       "    .dataframe thead tr:only-child th {\n",
       "        text-align: right;\n",
       "    }\n",
       "\n",
       "    .dataframe thead th {\n",
       "        text-align: left;\n",
       "    }\n",
       "\n",
       "    .dataframe tbody tr th {\n",
       "        vertical-align: top;\n",
       "    }\n",
       "</style>\n",
       "<table border=\"1\" class=\"dataframe\">\n",
       "  <thead>\n",
       "    <tr style=\"text-align: right;\">\n",
       "      <th></th>\n",
       "      <th>NewsIndex</th>\n",
       "      <th>UserIndex</th>\n",
       "      <th>Count</th>\n",
       "    </tr>\n",
       "  </thead>\n",
       "  <tbody>\n",
       "    <tr>\n",
       "      <th>0</th>\n",
       "      <td>45</td>\n",
       "      <td>1</td>\n",
       "      <td>1</td>\n",
       "    </tr>\n",
       "    <tr>\n",
       "      <th>1</th>\n",
       "      <td>127</td>\n",
       "      <td>2</td>\n",
       "      <td>1</td>\n",
       "    </tr>\n",
       "    <tr>\n",
       "      <th>2</th>\n",
       "      <td>115</td>\n",
       "      <td>3</td>\n",
       "      <td>1</td>\n",
       "    </tr>\n",
       "    <tr>\n",
       "      <th>3</th>\n",
       "      <td>180</td>\n",
       "      <td>3</td>\n",
       "      <td>1</td>\n",
       "    </tr>\n",
       "    <tr>\n",
       "      <th>4</th>\n",
       "      <td>140</td>\n",
       "      <td>4</td>\n",
       "      <td>1</td>\n",
       "    </tr>\n",
       "  </tbody>\n",
       "</table>\n",
       "</div>"
      ],
      "text/plain": [
       "   NewsIndex  UserIndex  Count\n",
       "0         45          1      1\n",
       "1        127          2      1\n",
       "2        115          3      1\n",
       "3        180          3      1\n",
       "4        140          4      1"
      ]
     },
     "execution_count": 5,
     "metadata": {},
     "output_type": "execute_result"
    }
   ],
   "source": [
    "def get_newsuser_dataframe(currentProvider):\n",
    "    news_user_file = os.path.join(os.getcwd(), data[currentProvider], currentProvider+'NewsUser.txt')\n",
    "    news_user = pd.read_csv(news_user_file, sep='\\t', header=None, names=['NewsIndex', 'UserIndex', 'Count'])\n",
    "    return news_user\n",
    "    \n",
    "news_user = get_newsuser_dataframe('BuzzFeed')\n",
    "print('Tamanho NewsUser: ', news_user.shape)\n",
    "news_user.head()                                                                                   "
   ]
  },
  {
   "cell_type": "code",
   "execution_count": 6,
   "metadata": {},
   "outputs": [
    {
     "name": "stdout",
     "output_type": "stream",
     "text": [
      "Tamanho UserUser:  (634750, 2)\n"
     ]
    },
    {
     "data": {
      "text/html": [
       "<div>\n",
       "<style>\n",
       "    .dataframe thead tr:only-child th {\n",
       "        text-align: right;\n",
       "    }\n",
       "\n",
       "    .dataframe thead th {\n",
       "        text-align: left;\n",
       "    }\n",
       "\n",
       "    .dataframe tbody tr th {\n",
       "        vertical-align: top;\n",
       "    }\n",
       "</style>\n",
       "<table border=\"1\" class=\"dataframe\">\n",
       "  <thead>\n",
       "    <tr style=\"text-align: right;\">\n",
       "      <th></th>\n",
       "      <th>UserIndex</th>\n",
       "      <th>Follows</th>\n",
       "    </tr>\n",
       "  </thead>\n",
       "  <tbody>\n",
       "    <tr>\n",
       "      <th>0</th>\n",
       "      <td>48</td>\n",
       "      <td>1</td>\n",
       "    </tr>\n",
       "    <tr>\n",
       "      <th>1</th>\n",
       "      <td>899</td>\n",
       "      <td>1</td>\n",
       "    </tr>\n",
       "    <tr>\n",
       "      <th>2</th>\n",
       "      <td>6781</td>\n",
       "      <td>1</td>\n",
       "    </tr>\n",
       "    <tr>\n",
       "      <th>3</th>\n",
       "      <td>10097</td>\n",
       "      <td>1</td>\n",
       "    </tr>\n",
       "    <tr>\n",
       "      <th>4</th>\n",
       "      <td>100</td>\n",
       "      <td>2</td>\n",
       "    </tr>\n",
       "  </tbody>\n",
       "</table>\n",
       "</div>"
      ],
      "text/plain": [
       "   UserIndex  Follows\n",
       "0         48        1\n",
       "1        899        1\n",
       "2       6781        1\n",
       "3      10097        1\n",
       "4        100        2"
      ]
     },
     "execution_count": 6,
     "metadata": {},
     "output_type": "execute_result"
    }
   ],
   "source": [
    "def get_useruser_dataframe(currentProvider):\n",
    "    user_user_file = os.path.join(os.getcwd(), data[currentProvider], currentProvider+'UserUser.txt')\n",
    "    user_user = pd.read_csv(user_user_file, sep='\\t', header=None, names=['UserIndex', 'Follows'])\n",
    "    return user_user\n",
    "\n",
    "user_user = get_useruser_dataframe('BuzzFeed')\n",
    "print('Tamanho UserUser: ', user_user.shape)\n",
    "user_user.head()"
   ]
  },
  {
   "cell_type": "markdown",
   "metadata": {},
   "source": [
    "## Resumo dos dados - tamanho das tabelas"
   ]
  },
  {
   "cell_type": "code",
   "execution_count": 7,
   "metadata": {
    "collapsed": true
   },
   "outputs": [],
   "source": [
    "summary = {\"news\": [get_newsids_dataframe('BuzzFeed').shape[0], get_newsids_dataframe('PolitiFact').shape[0]],\n",
    "           \"users\": [get_userids_dataframe('BuzzFeed').shape[0], get_userids_dataframe('PolitiFact').shape[0]],\n",
    "           \"newsuser\": [get_newsuser_dataframe('BuzzFeed').shape[0], get_newsuser_dataframe('PolitiFact').shape[0]],\n",
    "           \"useruser\": [get_useruser_dataframe('BuzzFeed').shape[0], get_useruser_dataframe('PolitiFact').shape[0]] }\n"
   ]
  },
  {
   "cell_type": "code",
   "execution_count": 8,
   "metadata": {},
   "outputs": [
    {
     "data": {
      "text/html": [
       "<div>\n",
       "<style>\n",
       "    .dataframe thead tr:only-child th {\n",
       "        text-align: right;\n",
       "    }\n",
       "\n",
       "    .dataframe thead th {\n",
       "        text-align: left;\n",
       "    }\n",
       "\n",
       "    .dataframe tbody tr th {\n",
       "        vertical-align: top;\n",
       "    }\n",
       "</style>\n",
       "<table border=\"1\" class=\"dataframe\">\n",
       "  <thead>\n",
       "    <tr style=\"text-align: right;\">\n",
       "      <th></th>\n",
       "      <th>news</th>\n",
       "      <th>newsuser</th>\n",
       "      <th>users</th>\n",
       "      <th>useruser</th>\n",
       "    </tr>\n",
       "  </thead>\n",
       "  <tbody>\n",
       "    <tr>\n",
       "      <th>BuzzFeed</th>\n",
       "      <td>182</td>\n",
       "      <td>22779</td>\n",
       "      <td>15257</td>\n",
       "      <td>634750</td>\n",
       "    </tr>\n",
       "    <tr>\n",
       "      <th>PolitiFact</th>\n",
       "      <td>240</td>\n",
       "      <td>32791</td>\n",
       "      <td>23865</td>\n",
       "      <td>574744</td>\n",
       "    </tr>\n",
       "  </tbody>\n",
       "</table>\n",
       "</div>"
      ],
      "text/plain": [
       "            news  newsuser  users  useruser\n",
       "BuzzFeed     182     22779  15257    634750\n",
       "PolitiFact   240     32791  23865    574744"
      ]
     },
     "execution_count": 8,
     "metadata": {},
     "output_type": "execute_result"
    }
   ],
   "source": [
    "pd.DataFrame(summary, index=['BuzzFeed', 'PolitiFact'])"
   ]
  },
  {
   "cell_type": "code",
   "execution_count": 9,
   "metadata": {
    "collapsed": true
   },
   "outputs": [],
   "source": [
    "def get_textfolder(newsname):\n",
    "    return 'FakeNewsContent' if 'Fake' in newsname else 'RealNewsContent'"
   ]
  },
  {
   "cell_type": "code",
   "execution_count": 10,
   "metadata": {
    "collapsed": true
   },
   "outputs": [],
   "source": [
    "def get_newspublisher(newsdict):\n",
    "    if 'meta_data' not in newsdict or 'og' not in newsdict['meta_data'] or 'site_name' not in newsdict['meta_data']['og']: \n",
    "        if 'source' in newsdict:\n",
    "            return newsdict['source']\n",
    "        return None\n",
    "    return newsdict['meta_data']['og']['site_name']"
   ]
  },
  {
   "cell_type": "code",
   "execution_count": 11,
   "metadata": {
    "collapsed": true
   },
   "outputs": [],
   "source": [
    "def get_newsdict(provider, newsname):\n",
    "    textfolder = get_textfolder(newsname)\n",
    "    textdatafile = os.path.join(os.getcwd(), 'datasets/Data',provider, textfolder, newsname+'-Webpage.json')\n",
    "    with open(textdatafile, 'r') as f:\n",
    "        newsdict = json.load(f)\n",
    "    return newsdict"
   ]
  },
  {
   "cell_type": "markdown",
   "metadata": {},
   "source": [
    "## Exemplo de Noticia"
   ]
  },
  {
   "cell_type": "code",
   "execution_count": 12,
   "metadata": {},
   "outputs": [
    {
     "data": {
      "text/html": [
       "<div>\n",
       "<style>\n",
       "    .dataframe thead tr:only-child th {\n",
       "        text-align: right;\n",
       "    }\n",
       "\n",
       "    .dataframe thead th {\n",
       "        text-align: left;\n",
       "    }\n",
       "\n",
       "    .dataframe tbody tr th {\n",
       "        vertical-align: top;\n",
       "    }\n",
       "</style>\n",
       "<table border=\"1\" class=\"dataframe\">\n",
       "  <thead>\n",
       "    <tr style=\"text-align: right;\">\n",
       "      <th></th>\n",
       "      <th>text</th>\n",
       "      <th>title</th>\n",
       "    </tr>\n",
       "  </thead>\n",
       "  <tbody>\n",
       "    <tr>\n",
       "      <th>0</th>\n",
       "      <td>Obama To UN: ‘Giving Up Liberty, Enhances Security In America…’ [VIDEO]\\n\\nFreedom is the bedrock that this nation was built upon. The problem is, liberals hate freedom. Oh, sure — they pay lip service to its importance, but ultimately, they want people to be subservient to a liberal-controlled government. They may not want a tyrannical king, but a tyrannical government of socialist-loving politicians pushing government-controlled everything is A-OK with them. They can’t ever say this out lo...</td>\n",
       "      <td>Obama To UN: ‘Giving Up Liberty, Enhances Security In America…’ [VIDEO]</td>\n",
       "    </tr>\n",
       "  </tbody>\n",
       "</table>\n",
       "</div>"
      ],
      "text/plain": [
       "                                                                                                                                                                                                                                                                                                                                                                                                                                                                                                                  text  \\\n",
       "0  Obama To UN: ‘Giving Up Liberty, Enhances Security In America…’ [VIDEO]\\n\\nFreedom is the bedrock that this nation was built upon. The problem is, liberals hate freedom. Oh, sure — they pay lip service to its importance, but ultimately, they want people to be subservient to a liberal-controlled government. They may not want a tyrannical king, but a tyrannical government of socialist-loving politicians pushing government-controlled everything is A-OK with them. They can’t ever say this out lo...   \n",
       "\n",
       "                                                                     title  \n",
       "0  Obama To UN: ‘Giving Up Liberty, Enhances Security In America…’ [VIDEO]  "
      ]
     },
     "execution_count": 12,
     "metadata": {},
     "output_type": "execute_result"
    }
   ],
   "source": [
    "news_ids = get_newsids_dataframe('BuzzFeed')\n",
    "randomnews = news_ids.get_value(np.random.randint(0, news_ids.shape[0]), 'NewsName')\n",
    "\n",
    "textnews = get_newsdict('BuzzFeed', randomnews)\n",
    "\n",
    "pd.set_option('max_colwidth', 500)\n",
    "example_news = {\"title\": [textnews['title']],\n",
    "                \"text\": [textnews[\"text\"]]}\n",
    "pd.DataFrame(example_news)"
   ]
  },
  {
   "cell_type": "code",
   "execution_count": 13,
   "metadata": {},
   "outputs": [
    {
     "data": {
      "text/plain": [
       "{'authors': ['Cassy Fiano'],\n",
       " 'canonical_link': 'http://rightwingnews.com/barack-obama/obama-un-giving-liberty-enhances-security-america/',\n",
       " 'images': ['http://rightwingnews.com/wp-content/uploads/2016/09/obama-un.jpg',\n",
       "  'http://rightwingnews.com/wp-content/uploads/wordpress-popular-posts/343883-featured-90x90.png',\n",
       "  'http://rightwingnews.com/wp-content/uploads/wordpress-popular-posts/343898-featured-90x90.jpg',\n",
       "  'http://pixel.quantserve.com/pixel/p-RS38vHsezmL8w.gif',\n",
       "  'http://rightwingnews.com/wp-content/uploads/wordpress-popular-posts/343804-featured-214x123.jpg',\n",
       "  'http://rightwingnews.com/wp-content/uploads/wordpress-popular-posts/343804-featured-90x90.jpg',\n",
       "  'http://rightwingnews.com/wp-content/uploads/wordpress-popular-posts/343898-featured-214x123.jpg',\n",
       "  'https://www.facebook.com/tr?ev=6026286623931&cd[value]=0.00&cd[currency]=USD&noscript=1',\n",
       "  'http://rightwingnews.com/wp-content/uploads/wordpress-popular-posts/343798-featured-90x90.jpg',\n",
       "  'http://rightwingnews.com/wp-content/uploads/2016/09/obama-un-890x395_c.jpg',\n",
       "  'http://rightwingnews.com/wp-content/uploads/wordpress-popular-posts/343798-featured-214x123.jpg',\n",
       "  'http://www.rightwingnews.com/wp-content/uploads/2014/08/rightwingnews_logo.png',\n",
       "  'http://rightwingnews.com/wp-content/themes/rightwingnews-theme/images/loading.gif',\n",
       "  'http://rightwingnews.com/wp-content/plugins/wpdev-content-ad/assets/book-ad.jpg',\n",
       "  'http://2.gravatar.com/avatar/8b602f8210f1a7d948ca1c0dcab11fad?s=96&d=mm&r=g',\n",
       "  'http://rightwingnews.com/wp-content/uploads/wordpress-popular-posts/343754-featured-90x90.jpg',\n",
       "  'http://2.gravatar.com/avatar/8b602f8210f1a7d948ca1c0dcab11fad?s=32&d=mm&r=g',\n",
       "  'http://rightwingnews.com/wp-content/uploads/wordpress-popular-posts/343754-featured-214x123.jpg',\n",
       "  'http://rightwingnews.com/wp-content/uploads/2016/09/ZObama.png',\n",
       "  'http://rightwingnews.com/wp-content/uploads/wordpress-popular-posts/343814-featured-214x123.jpg',\n",
       "  'http://rightwingnews.com/wp-content/uploads/wordpress-popular-posts/343883-featured-214x123.png',\n",
       "  'http://rightwingnews.com/wp-content/uploads/wordpress-popular-posts/343814-featured-90x90.jpg'],\n",
       " 'keywords': [],\n",
       " 'meta_data': {'article': {'modified_time': '2016-09-21T17:46:06-04:00',\n",
       "   'published_time': '2016-09-21T12:40:44-04:00',\n",
       "   'section': 'Barack Obama'},\n",
       "  'fb': {'app_id': 1631890973779575, 'pages': 389658314427637},\n",
       "  'google-site-verification': 'SkBwg36QfD-9JmsE5roZWtBuTvXCuBAahBo8MiQVSEk',\n",
       "  'googlebot': 'noimageindex',\n",
       "  'og': {'description': 'Freedom is the bedrock that this nation was built upon. The problem is, liberals hate freedom. Oh, sure — they pay lip service to its importance, but ultimately, they want',\n",
       "   'image': {'height': 480,\n",
       "    'identifier': 'http://rightwingnews.com/wp-content/uploads/2016/09/obama-un.jpg',\n",
       "    'width': 640},\n",
       "   'locale': 'en_US',\n",
       "   'site_name': \"John Hawkins' Right Wing News\",\n",
       "   'title': \"Obama To UN: 'Giving Up Liberty, Enhances Security In America...' [VIDEO] | John Hawkins' Right Wing News\",\n",
       "   'type': 'article',\n",
       "   'updated_time': '2016-09-21T17:46:06-04:00',\n",
       "   'url': 'http://rightwingnews.com/barack-obama/obama-un-giving-liberty-enhances-security-america/'},\n",
       "  'referrer': 'always',\n",
       "  'robots': 'noimageindex',\n",
       "  'viewport': 'width=device-width, initial-scale=1'},\n",
       " 'movies': ['https://www.youtube.com/embed/ji6pl5Vwrvk'],\n",
       " 'publish_date': {'$date': 1474476044000},\n",
       " 'source': 'http://rightwingnews.com',\n",
       " 'summary': '',\n",
       " 'text': \"Obama To UN: ‘Giving Up Liberty, Enhances Security In America…’ [VIDEO]\\n\\nFreedom is the bedrock that this nation was built upon. The problem is, liberals hate freedom. Oh, sure — they pay lip service to its importance, but ultimately, they want people to be subservient to a liberal-controlled government. They may not want a tyrannical king, but a tyrannical government of socialist-loving politicians pushing government-controlled everything is A-OK with them. They can’t ever say this out loud, though. Which makes the speech Obama just gave to the United Nations rather surprising. Obama actually admitted that he thinks it’s necessary for the United States to give up a little liberty… you know, for “safety”.\\n\\nTuesday, Obama spoke to the United Nations General Assembly. “We can only realize the promise of this institution’s founding to replace the ravages of war with cooperation if powerful nations, like my own, accept constraints,” he said. “Sometimes I am criticized in my own country for professing a belief in international norms and multilateral institutions. But I am convinced in the long run, giving up some freedom of action, not giving up our ability to protect ourselves or pursue our core interests, but binding ourselves to the international rules over the long-term enhances our security.”\\n\\n× 101 Things All Young Adults Should Know by Sir John Hawkins John Hawkins's book 101 Things All Young Adults Should Know is filled with lessons that newly minted adults need in order to get the most out of life. Gleaned from a lifetime of trial, error, and writing it down, Hawkins provides advice everyone can benefit from in short, digestible chapters. Buy Now\\n\\nSo evidently, Obama believes that we should relinquish more of our freedom and sovereignty so that the international community can rule over us. How this will make the country safer, he didn’t explain. But safety relies on us bringing more Muslim refugees into the United States. “Ultimately our world will be more secure if we are prepared to help those in need and the nations who are carrying the largest burden with respect to accommodating these refugees,” Obama said.\\n\\nObama may want to take a look at how Germany is doing. Accepting tons of refugees without screening them first has certainly not made their country safer — it’s made it more dangerous. And right here in the United States, we have had multiple terrorist attacks over the last year.\\n\\nHow allowing over 110,000 Muslim refugees with no vetting whatsoever into our country will keep us safe is not something that Obama can actually explain, because it’s a completely ludicrous idea. And turning the United States into a country that has to answer to the United Nations before we act on anything doesn’t make us safer, either. It’s a typical liberal idea: something that is nonsensical and useless, yet will weaken the country and strip Americans of their constitutionally-protected rights. But hey, who needs freedom, right? Obama has an agenda to push.\",\n",
       " 'title': 'Obama To UN: ‘Giving Up Liberty, Enhances Security In America…’ [VIDEO]',\n",
       " 'top_img': 'http://rightwingnews.com/wp-content/uploads/2016/09/obama-un.jpg',\n",
       " 'url': 'http://rightwingnews.com/barack-obama/obama-un-giving-liberty-enhances-security-america/'}"
      ]
     },
     "execution_count": 13,
     "metadata": {},
     "output_type": "execute_result"
    }
   ],
   "source": [
    "textnews"
   ]
  },
  {
   "cell_type": "markdown",
   "metadata": {},
   "source": [
    "textnews['meta_data']['og']['site_name']"
   ]
  },
  {
   "cell_type": "code",
   "execution_count": 14,
   "metadata": {
    "collapsed": true
   },
   "outputs": [],
   "source": [
    "sourcebias_cache = {}\n",
    "def get_source_bias(source):\n",
    "    if source in sourcebias_cache:\n",
    "        return sourcebias_cache[source]\n",
    "    \n",
    "    search_url = 'https://mediabiasfactcheck.com/?s=' + source\n",
    "    try:\n",
    "        r = requests.get(search_url)\n",
    "        if r.status_code != 200:\n",
    "            print('GetSourceBias StatusCode:', r.status_code)\n",
    "            return None\n",
    "    except Exception as ex:\n",
    "        print('Erro no request de source bias')\n",
    "        print(ex)\n",
    "        raise(ex)\n",
    "    \n",
    "    soup = BeautifulSoup(r.content, 'html.parser')\n",
    "    articles = soup.find_all('article')\n",
    "    if len(articles)==0:\n",
    "        print('GetSource Bias: Nenhum article encontrado.')\n",
    "        sourcebias_cache[source] = 'UNDEFINED BIAS'\n",
    "        return sourcebias_cache[source]\n",
    "    \n",
    "    biases = {'LEFT BIAS': -1,\n",
    "              'LEAST BIASED': 0,\n",
    "              'RIGHT BIAS': 1\n",
    "             }\n",
    "    \n",
    "    result = articles[0].find('div', class_='mh-excerpt').text\n",
    "    #print(result)\n",
    "    \n",
    "    for key in biases:\n",
    "        if key in result:\n",
    "            sourcebias_cache[source] = biases[key]\n",
    "            return sourcebias_cache[source]\n",
    "    \n",
    "    sourcebias_cache[source] = 'UNDEFINED BIAS'\n",
    "    return sourcebias_cache[source]    "
   ]
  },
  {
   "cell_type": "markdown",
   "metadata": {},
   "source": [
    "get_source_bias('http://cnn.it')"
   ]
  },
  {
   "cell_type": "markdown",
   "metadata": {},
   "source": [
    "## Calculo de bias das sources (BuzzFeed)"
   ]
  },
  {
   "cell_type": "markdown",
   "metadata": {},
   "source": [
    "provider = 'BuzzFeed'\n",
    "buzznews = []\n",
    "for i, row in get_newsids_dataframe(provider).iterrows():\n",
    "    textfolder = get_textfolder(row['NewsName'])\n",
    "    textdatafile = os.path.join(os.getcwd(), 'datasets/Data',provider, textfolder, row['NewsName']+'-Webpage.json')\n",
    "    with open(textdatafile, 'r') as f:\n",
    "        newsdict = json.load(f)\n",
    "        \n",
    "    simpler_news = {\n",
    "                    \"name\": row['NewsName'],\n",
    "                    \"title\": newsdict['title'],\n",
    "                    \"text\": newsdict['text'],\n",
    "                    \"source\": newsdict['source'] if 'source' in newsdict else None,\n",
    "                    \"bias\": get_source_bias(newsdict['source']) if 'source' in newsdict else None\n",
    "                   }    \n",
    "    buzznews.append(simpler_news)\n",
    "pd.DataFrame(buzznews)['bias'].value_counts()"
   ]
  },
  {
   "cell_type": "markdown",
   "metadata": {},
   "source": [
    "## Vocabulario (Buzzfeed)"
   ]
  },
  {
   "cell_type": "code",
   "execution_count": 23,
   "metadata": {
    "collapsed": true
   },
   "outputs": [],
   "source": [
    "vocabulary = {}"
   ]
  },
  {
   "cell_type": "code",
   "execution_count": 24,
   "metadata": {},
   "outputs": [
    {
     "name": "stdout",
     "output_type": "stream",
     "text": [
      "BuzzFeed vocabulary size: 11148\n"
     ]
    }
   ],
   "source": [
    "def tokenize_text(text):\n",
    "    tokens = []\n",
    "    sentences = nltk.sent_tokenize(text)\n",
    "    for s in sentences:\n",
    "        tokens.extend(nltk.word_tokenize(s))\n",
    "    return tokens\n",
    "\n",
    "def filter_stopwords(tokens):\n",
    "    return [t for t in tokens if t not in stopwords.words('english')]\n",
    "\n",
    "def make_lowercase(tokens):\n",
    "    return [t.lower() for t in tokens]\n",
    "\n",
    "provider = 'BuzzFeed'\n",
    "\n",
    "news_ids = get_newsids_dataframe(provider)\n",
    "vocab_counter = Counter()\n",
    "for i, row in news_ids.iterrows():\n",
    "    #pegando noticia do arquivo\n",
    "    newsdict = get_newsdict(provider, row['NewsName'])\n",
    "        \n",
    "    #processamento basico\n",
    "    newstext = ' '.join([newsdict['title'], newsdict['text']])\n",
    "    news_tokens = make_lowercase(filter_stopwords(tokenize_text(newstext)))\n",
    "    for token in news_tokens:\n",
    "        vocab_counter[token] += 1\n",
    "vocabulary[provider] = list(vocab_counter.keys())\n",
    "print(provider, 'vocabulary size:', len(vocabulary[provider]) )"
   ]
  },
  {
   "cell_type": "markdown",
   "metadata": {},
   "source": [
    "## Matriz X -> news x terms e y -> labels (Buzzfeed) "
   ]
  },
  {
   "cell_type": "code",
   "execution_count": 25,
   "metadata": {
    "collapsed": true
   },
   "outputs": [],
   "source": [
    "X = np.zeros((news_ids.shape[0], len(vocabulary[provider])))\n",
    "y = np.zeros(news_ids.shape[0])    "
   ]
  },
  {
   "cell_type": "code",
   "execution_count": 26,
   "metadata": {
    "collapsed": true
   },
   "outputs": [],
   "source": [
    "news_ids = get_newsids_dataframe(provider)\n",
    "for i, (index, row) in enumerate(news_ids.iterrows()):\n",
    "    #pegando noticia do arquivo\n",
    "    textfolder = get_textfolder(row['NewsName'])\n",
    "    textdatafile = os.path.join(os.getcwd(), 'datasets/Data',provider, textfolder, row['NewsName']+'-Webpage.json')\n",
    "    with open(textdatafile, 'r') as f:\n",
    "        newsdict = json.load(f)\n",
    "        \n",
    "    #processamento basico\n",
    "    newstext = ' '.join([newsdict['title'], newsdict['text']])\n",
    "    news_tokens = make_lowercase(filter_stopwords(tokenize_text(newstext)))\n",
    "    \n",
    "    xrow = np.zeros(X.shape[1])\n",
    "    for token in news_tokens:\n",
    "        xrow[vocabulary[provider].index(token)] += 1\n",
    "    \n",
    "    X[i,:] = xrow \n",
    "    y[i] = 1 if 'Fake' in row['NewsName'] else -1"
   ]
  },
  {
   "cell_type": "markdown",
   "metadata": {},
   "source": [
    "## Matriz A -> user x user adjancy (Buzzfeed)"
   ]
  },
  {
   "cell_type": "code",
   "execution_count": 34,
   "metadata": {
    "collapsed": true
   },
   "outputs": [],
   "source": [
    "user_ids = get_userids_dataframe('BuzzFeed')\n",
    "user_user = get_useruser_dataframe('BuzzFeed')\n",
    "\n",
    "A = np.zeros((user_ids.shape[0], user_ids.shape[0]))\n",
    "\n",
    "for i, (index, row) in enumerate(user_user.iterrows()):\n",
    "    user_a_zero_indexed = row['UserIndex'] - 1\n",
    "    user_b_zero_indexed = row['Follows'] -1\n",
    "    A[user_a_zero_indexed, user_b_zero_indexed] = 1"
   ]
  },
  {
   "cell_type": "markdown",
   "metadata": {},
   "source": [
    "## Matriz B -> publisher x news (Buzzfeed)"
   ]
  },
  {
   "cell_type": "code",
   "execution_count": 35,
   "metadata": {
    "collapsed": true
   },
   "outputs": [],
   "source": [
    "news_ids = get_newsids_dataframe(provider)\n",
    "publisher_list = set()\n",
    "for i, (index, row) in enumerate(news_ids.iterrows()):\n",
    "    newsdict = get_newsdict(provider, row['NewsName'])\n",
    "    newspublisher = get_newspublisher(newsdict)\n",
    "    if newspublisher is not None:\n",
    "        publisher_list.add(newspublisher)\n",
    "    \n",
    "publisher_list = list(publisher_list)\n",
    "\n",
    "B = np.zeros((len(publisher_list), news_ids.shape[0]))\n",
    "for i, (index, row) in enumerate(news_ids.iterrows()):\n",
    "    newsdict = get_newsdict(provider, row['NewsName'])\n",
    "    newspublisher = get_newspublisher(newsdict)\n",
    "    if newspublisher is not None:\n",
    "        B[ publisher_list.index(newspublisher), i ] = 1"
   ]
  },
  {
   "cell_type": "markdown",
   "metadata": {},
   "source": [
    "## Matriz W -> user x news (Buzzfeed)"
   ]
  },
  {
   "cell_type": "code",
   "execution_count": 36,
   "metadata": {
    "collapsed": true
   },
   "outputs": [],
   "source": [
    "news_user = get_newsuser_dataframe('BuzzFeed')\n",
    "W = np.zeros((user_ids.shape[0], news_ids.shape[0]))\n",
    "for i, (index, row) in enumerate(news_user.iterrows()):\n",
    "    user_zero_indexed = row['UserIndex'] - 1\n",
    "    news_zero_indexed = row['NewsIndex'] - 1\n",
    "    if row['Count'] > 0:\n",
    "        W[user_zero_indexed, news_zero_indexed] = 1"
   ]
  },
  {
   "cell_type": "markdown",
   "metadata": {},
   "source": [
    "## Matriz Y -> sign(A) (Buzzfeed)"
   ]
  },
  {
   "cell_type": "code",
   "execution_count": 37,
   "metadata": {},
   "outputs": [],
   "source": [
    "Y = np.sign(A)"
   ]
  },
  {
   "cell_type": "code",
   "execution_count": 38,
   "metadata": {},
   "outputs": [
    {
     "data": {
      "text/plain": [
       "array([[ 0.,  0.,  0., ...,  0.,  0.,  0.],\n",
       "       [ 0.,  0.,  0., ...,  0.,  0.,  0.],\n",
       "       [ 0.,  0.,  0., ...,  0.,  0.,  0.],\n",
       "       ..., \n",
       "       [ 0.,  0.,  0., ...,  0.,  0.,  0.],\n",
       "       [ 0.,  0.,  0., ...,  0.,  0.,  0.],\n",
       "       [ 0.,  0.,  0., ...,  0.,  0.,  0.]])"
      ]
     },
     "execution_count": 38,
     "metadata": {},
     "output_type": "execute_result"
    }
   ],
   "source": [
    "Y"
   ]
  },
  {
   "cell_type": "code",
   "execution_count": 40,
   "metadata": {},
   "outputs": [
    {
     "data": {
      "text/plain": [
       "True"
      ]
     },
     "execution_count": 40,
     "metadata": {},
     "output_type": "execute_result"
    }
   ],
   "source": [
    "np.array_equal(A, Y)"
   ]
  }
 ],
 "metadata": {
  "kernelspec": {
   "display_name": "Python [conda env:fakenews]",
   "language": "python",
   "name": "conda-env-fakenews-py"
  },
  "language_info": {
   "codemirror_mode": {
    "name": "ipython",
    "version": 3
   },
   "file_extension": ".py",
   "mimetype": "text/x-python",
   "name": "python",
   "nbconvert_exporter": "python",
   "pygments_lexer": "ipython3",
   "version": "3.6.2"
  }
 },
 "nbformat": 4,
 "nbformat_minor": 2
}
